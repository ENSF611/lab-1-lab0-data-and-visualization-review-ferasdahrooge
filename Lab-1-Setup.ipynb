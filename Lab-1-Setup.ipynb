{
 "cells": [
  {
   "cell_type": "code",
   "execution_count": 2,
   "id": "91614a3a",
   "metadata": {},
   "outputs": [
    {
     "name": "stdout",
     "output_type": "stream",
     "text": [
      "Python version: 3.8.13 (default, Mar 28 2022, 06:16:26) \n",
      "[Clang 12.0.0 ]\n",
      "pandas version: 1.5.0\n",
      "matplotlib version: 3.5.2\n",
      "NumPy version: 1.21.5\n",
      "SciPy version: 1.7.3\n",
      "IPython version: 8.4.0\n",
      "scikit-learn version: 1.1.1\n",
      "yellowbrick version: 1.5\n"
     ]
    }
   ],
   "source": [
    "import sys\n",
    "\n",
    "print(\"Python version:\", sys.version)\n",
    "\n",
    " \n",
    "\n",
    "import pandas as pd\n",
    "\n",
    "print(\"pandas version:\", pd.__version__)\n",
    "\n",
    " \n",
    "\n",
    "import matplotlib\n",
    "\n",
    "print(\"matplotlib version:\", matplotlib.__version__)\n",
    "\n",
    " \n",
    "\n",
    "import numpy as np\n",
    "\n",
    "print(\"NumPy version:\", np.__version__)\n",
    "\n",
    " \n",
    "\n",
    "import scipy as sp\n",
    "\n",
    "print(\"SciPy version:\", sp.__version__)\n",
    "\n",
    " \n",
    "\n",
    "import IPython\n",
    "\n",
    "print(\"IPython version:\", IPython.__version__)\n",
    "\n",
    " \n",
    "\n",
    "import sklearn\n",
    "\n",
    "print(\"scikit-learn version:\", sklearn.__version__)\n",
    "\n",
    "\n",
    "import yellowbrick\n",
    "\n",
    "print(\"yellowbrick version:\", yellowbrick.__version__)"
   ]
  },
  {
   "cell_type": "code",
   "execution_count": null,
   "id": "1b0c5618",
   "metadata": {},
   "outputs": [],
   "source": []
  }
 ],
 "metadata": {
  "kernelspec": {
   "display_name": "Python 3 (ipykernel)",
   "language": "python",
   "name": "python3"
  },
  "language_info": {
   "codemirror_mode": {
    "name": "ipython",
    "version": 3
   },
   "file_extension": ".py",
   "mimetype": "text/x-python",
   "name": "python",
   "nbconvert_exporter": "python",
   "pygments_lexer": "ipython3",
   "version": "3.8.13"
  }
 },
 "nbformat": 4,
 "nbformat_minor": 5
}
